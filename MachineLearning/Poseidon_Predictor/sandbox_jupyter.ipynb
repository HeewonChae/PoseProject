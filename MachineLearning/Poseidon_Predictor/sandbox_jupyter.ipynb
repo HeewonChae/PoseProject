{
 "metadata": {
  "language_info": {
   "codemirror_mode": {
    "name": "ipython",
    "version": 3
   },
   "file_extension": ".py",
   "mimetype": "text/x-python",
   "name": "python",
   "nbconvert_exporter": "python",
   "pygments_lexer": "ipython3",
   "version": "3.6.10-final"
  },
  "orig_nbformat": 2,
  "kernelspec": {
   "name": "python_defaultSpec_1599892690229",
   "display_name": "Python 3.6.10 64-bit ('tensor_gpu': conda)"
  }
 },
 "nbformat": 4,
 "nbformat_minor": 2,
 "cells": [
  {
   "cell_type": "code",
   "execution_count": 1,
   "metadata": {
    "tags": []
   },
   "outputs": [
    {
     "output_type": "stream",
     "name": "stdout",
     "text": "football file count: 122\nfootball data shape: (375234, 37)\n"
    },
    {
     "output_type": "execute_result",
     "data": {
      "text/plain": "   camp_type  league_type  my_camp_3matches_gf_avg  my_camp_3matches_ga_avg  \\\n0          0            0                    1.667                    0.667   \n1          1            0                    1.333                    0.333   \n2          0            1                    1.667                    1.000   \n3          1            1                    0.667                    2.333   \n4          0            1                    2.333                    1.667   \n\n   my_6matches_gf_avg  my_6matches_ga_avg  my_camp_3matches_pts  \\\n0               2.000               0.833                     9   \n1               1.167               0.333                     9   \n2               1.333               0.833                     6   \n3               0.667               1.667                     1   \n4               1.500               2.167                     7   \n\n   my_6matches_pts  op_camp_3matches_gf_avg  op_camp_3matches_ga_avg  ...  \\\n0               18                    1.333                    0.333  ...   \n1               15                    1.667                    0.667  ...   \n2               10                    0.667                    2.333  ...   \n3                5                    1.667                    1.000  ...   \n4                7                    1.000                    1.667  ...   \n\n   1.5_under  1.5_over  2.5_under  2.5_over  3.5_under  3.5_over  4.5_under  \\\n0          1         0          1         0          1         0          1   \n1          1         0          1         0          1         0          1   \n2          0         1          0         1          1         0          1   \n3          0         1          0         1          1         0          1   \n4          0         1          1         0          1         0          1   \n\n   4.5_over  5.5_under  5.5_over  \n0         0          1         0  \n1         0          1         0  \n2         0          1         0  \n3         0          1         0  \n4         0          1         0  \n\n[5 rows x 36 columns]",
      "text/html": "<div>\n<style scoped>\n    .dataframe tbody tr th:only-of-type {\n        vertical-align: middle;\n    }\n\n    .dataframe tbody tr th {\n        vertical-align: top;\n    }\n\n    .dataframe thead th {\n        text-align: right;\n    }\n</style>\n<table border=\"1\" class=\"dataframe\">\n  <thead>\n    <tr style=\"text-align: right;\">\n      <th></th>\n      <th>camp_type</th>\n      <th>league_type</th>\n      <th>my_camp_3matches_gf_avg</th>\n      <th>my_camp_3matches_ga_avg</th>\n      <th>my_6matches_gf_avg</th>\n      <th>my_6matches_ga_avg</th>\n      <th>my_camp_3matches_pts</th>\n      <th>my_6matches_pts</th>\n      <th>op_camp_3matches_gf_avg</th>\n      <th>op_camp_3matches_ga_avg</th>\n      <th>...</th>\n      <th>1.5_under</th>\n      <th>1.5_over</th>\n      <th>2.5_under</th>\n      <th>2.5_over</th>\n      <th>3.5_under</th>\n      <th>3.5_over</th>\n      <th>4.5_under</th>\n      <th>4.5_over</th>\n      <th>5.5_under</th>\n      <th>5.5_over</th>\n    </tr>\n  </thead>\n  <tbody>\n    <tr>\n      <th>0</th>\n      <td>0</td>\n      <td>0</td>\n      <td>1.667</td>\n      <td>0.667</td>\n      <td>2.000</td>\n      <td>0.833</td>\n      <td>9</td>\n      <td>18</td>\n      <td>1.333</td>\n      <td>0.333</td>\n      <td>...</td>\n      <td>1</td>\n      <td>0</td>\n      <td>1</td>\n      <td>0</td>\n      <td>1</td>\n      <td>0</td>\n      <td>1</td>\n      <td>0</td>\n      <td>1</td>\n      <td>0</td>\n    </tr>\n    <tr>\n      <th>1</th>\n      <td>1</td>\n      <td>0</td>\n      <td>1.333</td>\n      <td>0.333</td>\n      <td>1.167</td>\n      <td>0.333</td>\n      <td>9</td>\n      <td>15</td>\n      <td>1.667</td>\n      <td>0.667</td>\n      <td>...</td>\n      <td>1</td>\n      <td>0</td>\n      <td>1</td>\n      <td>0</td>\n      <td>1</td>\n      <td>0</td>\n      <td>1</td>\n      <td>0</td>\n      <td>1</td>\n      <td>0</td>\n    </tr>\n    <tr>\n      <th>2</th>\n      <td>0</td>\n      <td>1</td>\n      <td>1.667</td>\n      <td>1.000</td>\n      <td>1.333</td>\n      <td>0.833</td>\n      <td>6</td>\n      <td>10</td>\n      <td>0.667</td>\n      <td>2.333</td>\n      <td>...</td>\n      <td>0</td>\n      <td>1</td>\n      <td>0</td>\n      <td>1</td>\n      <td>1</td>\n      <td>0</td>\n      <td>1</td>\n      <td>0</td>\n      <td>1</td>\n      <td>0</td>\n    </tr>\n    <tr>\n      <th>3</th>\n      <td>1</td>\n      <td>1</td>\n      <td>0.667</td>\n      <td>2.333</td>\n      <td>0.667</td>\n      <td>1.667</td>\n      <td>1</td>\n      <td>5</td>\n      <td>1.667</td>\n      <td>1.000</td>\n      <td>...</td>\n      <td>0</td>\n      <td>1</td>\n      <td>0</td>\n      <td>1</td>\n      <td>1</td>\n      <td>0</td>\n      <td>1</td>\n      <td>0</td>\n      <td>1</td>\n      <td>0</td>\n    </tr>\n    <tr>\n      <th>4</th>\n      <td>0</td>\n      <td>1</td>\n      <td>2.333</td>\n      <td>1.667</td>\n      <td>1.500</td>\n      <td>2.167</td>\n      <td>7</td>\n      <td>7</td>\n      <td>1.000</td>\n      <td>1.667</td>\n      <td>...</td>\n      <td>0</td>\n      <td>1</td>\n      <td>1</td>\n      <td>0</td>\n      <td>1</td>\n      <td>0</td>\n      <td>1</td>\n      <td>0</td>\n      <td>1</td>\n      <td>0</td>\n    </tr>\n  </tbody>\n</table>\n<p>5 rows × 36 columns</p>\n</div>"
     },
     "metadata": {},
     "execution_count": 1
    }
   ],
   "source": [
    "from load_data import load_data, num_attribs, cat_attribs, get_camp_fixtures\n",
    "from export_football_data import label_columns\n",
    "from sklearn.pipeline import Pipeline\n",
    "from sklearn.model_selection import cross_val_score\n",
    "from sklearn.compose import ColumnTransformer\n",
    "from sklearn.preprocessing import OneHotEncoder, StandardScaler\n",
    "from sklearn.multiclass import OneVsRestClassifier\n",
    "from sklearn.ensemble import RandomForestClassifier\n",
    "import machine_learning.utility as utility\n",
    "import enums\n",
    "import time\n",
    "from datetime import datetime\n",
    "\n",
    "football_data = load_data(enums.SportsType.Football, enums.CampType.Any)\n",
    "football_data.head()"
   ]
  },
  {
   "cell_type": "code",
   "execution_count": 2,
   "metadata": {},
   "outputs": [],
   "source": [
    "home_football_data = get_camp_fixtures(enums.CampType.Home, football_data)\n",
    "away_football_data = get_camp_fixtures(enums.CampType.Away, football_data)"
   ]
  },
  {
   "cell_type": "code",
   "execution_count": 3,
   "metadata": {},
   "outputs": [],
   "source": [
    "# 학습 데이터셋\n",
    "home_train = home_football_data.drop(label_columns, axis=1)\n",
    "home_train_result = home_football_data['result_type']  # 경기 결과 (승=0, 무=1, 패=2)\n",
    "\n",
    "away_train = away_football_data.drop(label_columns, axis=1)\n",
    "away_train_result = away_football_data['result_type']  # 경기 결과 (승=0, 무=1, 패=2)"
   ]
  },
  {
   "cell_type": "code",
   "execution_count": 4,
   "metadata": {},
   "outputs": [],
   "source": [
    "# 특성 처리\n",
    "columns_pipeline = ColumnTransformer([\n",
    "        (\"num\", StandardScaler(), num_attribs),\n",
    "        (\"cat\", OneHotEncoder(), cat_attribs),\n",
    "    ])\n",
    "\n",
    "feature_pipeline = Pipeline([\n",
    "        # (\"binning\", utility.BinningRestPeriod()),\n",
    "        ('columns', columns_pipeline),\n",
    "    ])"
   ]
  },
  {
   "cell_type": "code",
   "execution_count": 5,
   "metadata": {},
   "outputs": [],
   "source": [
    "# 모델 훈련 (Home)\n",
    "# Input 데이터 준비\n",
    "prepared_home_train = feature_pipeline.fit_transform(home_train)\n",
    "\n",
    "# 모델\n",
    "rtf_clf_home = RandomForestClassifier(n_estimators=122, random_state=42, class_weight='balanced')"
   ]
  },
  {
   "cell_type": "code",
   "execution_count": 9,
   "metadata": {
    "tags": []
   },
   "outputs": [
    {
     "output_type": "stream",
     "name": "stdout",
     "text": "Fitting 3 folds for each of 5 candidates, totalling 15 fits\n[Parallel(n_jobs=4)]: Using backend LokyBackend with 4 concurrent workers.\n[Parallel(n_jobs=4)]: Done  15 out of  15 | elapsed:  3.1min finished\n0.472963537419317 {'min_samples_leaf': 2}\n0.46335353406141233 {'min_samples_leaf': 4}\n0.45300265967369696 {'min_samples_leaf': 8}\n0.44505561862730986 {'min_samples_leaf': 16}\n0.439038040262876 {'min_samples_leaf': 32}\nbest_params: {'min_samples_leaf': 2}\nbest_estimator: RandomForestClassifier(bootstrap=True, ccp_alpha=0.0, class_weight='balanced',\n                       criterion='gini', max_depth=None, max_features='auto',\n                       max_leaf_nodes=None, max_samples=None,\n                       min_impurity_decrease=0.0, min_impurity_split=None,\n                       min_samples_leaf=2, min_samples_split=2,\n                       min_weight_fraction_leaf=0.0, n_estimators=122,\n                       n_jobs=None, oob_score=False, random_state=42, verbose=0,\n                       warm_start=False)\n"
    }
   ],
   "source": [
    "from sklearn.model_selection import GridSearchCV\n",
    "import numpy as np\n",
    "\n",
    "# 그리드 서치\n",
    "param_grid = [\n",
    "    # 12(=3×4)개의 하이퍼파라미터 조합을 시도합니다.\n",
    "    {'min_samples_split': [2, 4, 8, 16, 32]}\n",
    "  ]\n",
    "\n",
    "grid_search = GridSearchCV(rtf_clf_home, param_grid, cv=3,\n",
    "                           scoring='accuracy',\n",
    "                           return_train_score=True,\n",
    "                           n_jobs=4,\n",
    "                           verbose=2)\n",
    "grid_search.fit(prepared_home_train, home_train_result)\n",
    "\n",
    "cvres = grid_search.cv_results_\n",
    "for mean_score, params in zip(cvres[\"mean_test_score\"], cvres[\"params\"]):\n",
    "    print(mean_score, params)\n",
    "\n",
    "print(f\"best_params: {grid_search.best_params_}\")\n",
    "print(f\"best_estimator: {grid_search.best_estimator_}\")"
   ]
  },
  {
   "cell_type": "code",
   "execution_count": null,
   "metadata": {},
   "outputs": [],
   "source": []
  }
 ]
}