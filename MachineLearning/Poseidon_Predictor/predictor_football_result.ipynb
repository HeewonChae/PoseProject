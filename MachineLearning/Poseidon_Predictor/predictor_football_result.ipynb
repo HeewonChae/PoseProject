{
 "metadata": {
  "language_info": {
   "codemirror_mode": {
    "name": "ipython",
    "version": 3
   },
   "file_extension": ".py",
   "mimetype": "text/x-python",
   "name": "python",
   "nbconvert_exporter": "python",
   "pygments_lexer": "ipython3",
   "version": 3
  },
  "orig_nbformat": 2,
  "kernelspec": {
   "name": "python_defaultSpec_1596326199755",
   "display_name": "Python 3.6.10 64-bit ('tensor_gpu': conda)"
  }
 },
 "nbformat": 4,
 "nbformat_minor": 2,
 "cells": [
  {
   "cell_type": "markdown",
   "metadata": {},
   "source": [
    "# 데이터 로드"
   ]
  },
  {
   "cell_type": "code",
   "execution_count": 1,
   "metadata": {
    "tags": []
   },
   "outputs": [
    {
     "output_type": "stream",
     "name": "stdout",
     "text": "football file count: 55\nfootball data shape: (188370, 37)\n"
    },
    {
     "output_type": "execute_result",
     "data": {
      "text/plain": "            match_time  camp_type  league_type  my_camp_3matches_gf_avg  \\\n0  2016-01-30 13:00:00          0            1                    3.000   \n1  2016-01-30 13:00:00          1            1                    1.333   \n2  2016-01-30 13:00:00          0            1                    0.667   \n3  2016-01-30 13:00:00          1            1                    1.000   \n4  2016-01-30 16:00:00          0            1                    1.667   \n\n   my_camp_3matches_ga_avg  my_6matches_gf_avg  my_6matches_ga_avg  \\\n0                    0.667               1.500               0.833   \n1                    1.333               1.833               1.000   \n2                    0.667               0.333               2.000   \n3                    0.000               0.667               0.333   \n4                    0.667               1.000               0.500   \n\n   my_camp_3matches_pts  my_6matches_pts  op_camp_3matches_gf_avg  ...  \\\n0                     9               10                    1.333  ...   \n1                     6               12                    3.000  ...   \n2                     4                4                    1.000  ...   \n3                     7                9                    0.667  ...   \n4                     4                8                    0.333  ...   \n\n   1.5_under  1.5_over  2.5_under  2.5_over  3.5_under  3.5_over  4.5_under  \\\n0          1         0          1         0          1         0          1   \n1          1         0          1         0          1         0          1   \n2          0         1          0         1          0         1          1   \n3          0         1          0         1          0         1          1   \n4          0         1          1         0          1         0          1   \n\n   4.5_over  5.5_under  5.5_over  \n0         0          1         0  \n1         0          1         0  \n2         0          1         0  \n3         0          1         0  \n4         0          1         0  \n\n[5 rows x 37 columns]",
      "text/html": "<div>\n<style scoped>\n    .dataframe tbody tr th:only-of-type {\n        vertical-align: middle;\n    }\n\n    .dataframe tbody tr th {\n        vertical-align: top;\n    }\n\n    .dataframe thead th {\n        text-align: right;\n    }\n</style>\n<table border=\"1\" class=\"dataframe\">\n  <thead>\n    <tr style=\"text-align: right;\">\n      <th></th>\n      <th>match_time</th>\n      <th>camp_type</th>\n      <th>league_type</th>\n      <th>my_camp_3matches_gf_avg</th>\n      <th>my_camp_3matches_ga_avg</th>\n      <th>my_6matches_gf_avg</th>\n      <th>my_6matches_ga_avg</th>\n      <th>my_camp_3matches_pts</th>\n      <th>my_6matches_pts</th>\n      <th>op_camp_3matches_gf_avg</th>\n      <th>...</th>\n      <th>1.5_under</th>\n      <th>1.5_over</th>\n      <th>2.5_under</th>\n      <th>2.5_over</th>\n      <th>3.5_under</th>\n      <th>3.5_over</th>\n      <th>4.5_under</th>\n      <th>4.5_over</th>\n      <th>5.5_under</th>\n      <th>5.5_over</th>\n    </tr>\n  </thead>\n  <tbody>\n    <tr>\n      <th>0</th>\n      <td>2016-01-30 13:00:00</td>\n      <td>0</td>\n      <td>1</td>\n      <td>3.000</td>\n      <td>0.667</td>\n      <td>1.500</td>\n      <td>0.833</td>\n      <td>9</td>\n      <td>10</td>\n      <td>1.333</td>\n      <td>...</td>\n      <td>1</td>\n      <td>0</td>\n      <td>1</td>\n      <td>0</td>\n      <td>1</td>\n      <td>0</td>\n      <td>1</td>\n      <td>0</td>\n      <td>1</td>\n      <td>0</td>\n    </tr>\n    <tr>\n      <th>1</th>\n      <td>2016-01-30 13:00:00</td>\n      <td>1</td>\n      <td>1</td>\n      <td>1.333</td>\n      <td>1.333</td>\n      <td>1.833</td>\n      <td>1.000</td>\n      <td>6</td>\n      <td>12</td>\n      <td>3.000</td>\n      <td>...</td>\n      <td>1</td>\n      <td>0</td>\n      <td>1</td>\n      <td>0</td>\n      <td>1</td>\n      <td>0</td>\n      <td>1</td>\n      <td>0</td>\n      <td>1</td>\n      <td>0</td>\n    </tr>\n    <tr>\n      <th>2</th>\n      <td>2016-01-30 13:00:00</td>\n      <td>0</td>\n      <td>1</td>\n      <td>0.667</td>\n      <td>0.667</td>\n      <td>0.333</td>\n      <td>2.000</td>\n      <td>4</td>\n      <td>4</td>\n      <td>1.000</td>\n      <td>...</td>\n      <td>0</td>\n      <td>1</td>\n      <td>0</td>\n      <td>1</td>\n      <td>0</td>\n      <td>1</td>\n      <td>1</td>\n      <td>0</td>\n      <td>1</td>\n      <td>0</td>\n    </tr>\n    <tr>\n      <th>3</th>\n      <td>2016-01-30 13:00:00</td>\n      <td>1</td>\n      <td>1</td>\n      <td>1.000</td>\n      <td>0.000</td>\n      <td>0.667</td>\n      <td>0.333</td>\n      <td>7</td>\n      <td>9</td>\n      <td>0.667</td>\n      <td>...</td>\n      <td>0</td>\n      <td>1</td>\n      <td>0</td>\n      <td>1</td>\n      <td>0</td>\n      <td>1</td>\n      <td>1</td>\n      <td>0</td>\n      <td>1</td>\n      <td>0</td>\n    </tr>\n    <tr>\n      <th>4</th>\n      <td>2016-01-30 16:00:00</td>\n      <td>0</td>\n      <td>1</td>\n      <td>1.667</td>\n      <td>0.667</td>\n      <td>1.000</td>\n      <td>0.500</td>\n      <td>4</td>\n      <td>8</td>\n      <td>0.333</td>\n      <td>...</td>\n      <td>0</td>\n      <td>1</td>\n      <td>1</td>\n      <td>0</td>\n      <td>1</td>\n      <td>0</td>\n      <td>1</td>\n      <td>0</td>\n      <td>1</td>\n      <td>0</td>\n    </tr>\n  </tbody>\n</table>\n<p>5 rows × 37 columns</p>\n</div>"
     },
     "metadata": {},
     "execution_count": 1
    }
   ],
   "source": [
    "import load_data\n",
    "import enums\n",
    "\n",
    "football_data = load_data.load_data(enums.SportsType.Football, enums.CampType.Any)\n",
    "football_data.head()"
   ]
  },
  {
   "cell_type": "markdown",
   "metadata": {},
   "source": [
    "# 데이터셋 준비"
   ]
  },
  {
   "cell_type": "code",
   "execution_count": 2,
   "metadata": {
    "tags": []
   },
   "outputs": [],
   "source": [
    "from load_data import get_camp_fixtures\n",
    "from export_football_data import label_columns\n",
    "\n",
    "\n",
    "home_football_data = get_camp_fixtures(enums.CampType.Home, football_data)\n",
    "away_football_data = get_camp_fixtures(enums.CampType.Away, football_data)"
   ]
  },
  {
   "cell_type": "code",
   "execution_count": 3,
   "metadata": {},
   "outputs": [
    {
     "output_type": "execute_result",
     "data": {
      "text/plain": "                 match_time  camp_type  league_type  my_camp_3matches_gf_avg  \\\n0       2016-01-30 13:00:00          0            1                    3.000   \n2       2016-01-30 13:00:00          0            1                    0.667   \n4       2016-01-30 16:00:00          0            1                    1.667   \n6       2016-01-31 13:00:00          0            1                    0.333   \n8       2016-01-31 16:00:00          0            1                    1.000   \n...                     ...        ...          ...                      ...   \n188360  2020-07-23 16:00:00          0            1                    2.000   \n188362  2020-07-26 12:00:00          0            1                    1.667   \n188364  2020-07-26 17:30:00          0            1                    1.000   \n188366  2020-07-27 18:45:00          0            1                    2.333   \n188368  2020-07-28 15:10:00          0            1                    2.667   \n\n        my_camp_3matches_ga_avg  my_6matches_gf_avg  my_6matches_ga_avg  \\\n0                         0.667               1.500               0.833   \n2                         0.667               0.333               2.000   \n4                         0.667               1.000               0.500   \n6                         0.667               0.667               0.667   \n8                         1.333               1.000               1.833   \n...                         ...                 ...                 ...   \n188360                    1.333               1.667               1.333   \n188362                    1.333               1.833               1.333   \n188364                    0.667               2.000               1.000   \n188366                    1.333               1.833               1.167   \n188368                    0.333               1.833               1.667   \n\n        my_camp_3matches_pts  my_6matches_pts  op_camp_3matches_gf_avg  ...  \\\n0                          9               10                    1.333  ...   \n2                          4                4                    1.000  ...   \n4                          4                8                    0.333  ...   \n6                          3                8                    1.000  ...   \n8                          3                6                    1.000  ...   \n...                      ...              ...                      ...  ...   \n188360                     6               10                    2.000  ...   \n188362                     5               11                    1.333  ...   \n188364                     6               13                    2.000  ...   \n188366                     6               12                    0.667  ...   \n188368                     9               10                    1.000  ...   \n\n        op_6matches_pts  my_att_trend  my_def_trend  op_att_trend  \\\n0                    12         0.311         0.030         0.670   \n2                     9        -0.144        -0.708        -0.082   \n4                    10         0.031         0.111         0.082   \n6                     7        -0.056         0.143         0.237   \n8                     7         0.063        -0.508        -0.144   \n...                 ...           ...           ...           ...   \n188360               12         0.171        -0.036        -0.039   \n188362               10         0.023         0.129         0.320   \n188364               12         0.410         0.104         0.248   \n188366               14         0.159         0.013         0.117   \n188368               11         0.622        -0.428         0.257   \n\n        op_def_trend  h2h_4matches_gf_avg  h2h_4matches_ga_avg  \\\n0              0.093                 0.50                 2.25   \n2              0.153                 0.50                 2.50   \n4             -0.105                 1.50                 1.00   \n6             -0.612                 1.50                 0.25   \n8              0.103                 0.75                 1.50   \n...              ...                  ...                  ...   \n188360         0.242                 2.50                 0.75   \n188362         0.013                 1.00                 2.25   \n188364         0.119                 2.00                 1.75   \n188366         0.186                 1.25                 1.50   \n188368        -0.143                 2.00                 1.50   \n\n        h2h_4matches_pts  my_rest_period  op_rest_period  \n0                      0       14.000000       14.000000  \n2                      0       14.000000       14.000000  \n4                      8       14.000000       14.000000  \n6                      8       14.000000       14.000000  \n8                      3       14.000000       14.000000  \n...                  ...             ...             ...  \n188360                 9        4.083333       14.000000  \n188362                 3        2.833333        2.833333  \n188364                 6        3.958333        3.958333  \n188366                 4        5.010417        5.010417  \n188368                 3        2.979167        2.979167  \n\n[94185 rows x 24 columns]",
      "text/html": "<div>\n<style scoped>\n    .dataframe tbody tr th:only-of-type {\n        vertical-align: middle;\n    }\n\n    .dataframe tbody tr th {\n        vertical-align: top;\n    }\n\n    .dataframe thead th {\n        text-align: right;\n    }\n</style>\n<table border=\"1\" class=\"dataframe\">\n  <thead>\n    <tr style=\"text-align: right;\">\n      <th></th>\n      <th>match_time</th>\n      <th>camp_type</th>\n      <th>league_type</th>\n      <th>my_camp_3matches_gf_avg</th>\n      <th>my_camp_3matches_ga_avg</th>\n      <th>my_6matches_gf_avg</th>\n      <th>my_6matches_ga_avg</th>\n      <th>my_camp_3matches_pts</th>\n      <th>my_6matches_pts</th>\n      <th>op_camp_3matches_gf_avg</th>\n      <th>...</th>\n      <th>op_6matches_pts</th>\n      <th>my_att_trend</th>\n      <th>my_def_trend</th>\n      <th>op_att_trend</th>\n      <th>op_def_trend</th>\n      <th>h2h_4matches_gf_avg</th>\n      <th>h2h_4matches_ga_avg</th>\n      <th>h2h_4matches_pts</th>\n      <th>my_rest_period</th>\n      <th>op_rest_period</th>\n    </tr>\n  </thead>\n  <tbody>\n    <tr>\n      <th>0</th>\n      <td>2016-01-30 13:00:00</td>\n      <td>0</td>\n      <td>1</td>\n      <td>3.000</td>\n      <td>0.667</td>\n      <td>1.500</td>\n      <td>0.833</td>\n      <td>9</td>\n      <td>10</td>\n      <td>1.333</td>\n      <td>...</td>\n      <td>12</td>\n      <td>0.311</td>\n      <td>0.030</td>\n      <td>0.670</td>\n      <td>0.093</td>\n      <td>0.50</td>\n      <td>2.25</td>\n      <td>0</td>\n      <td>14.000000</td>\n      <td>14.000000</td>\n    </tr>\n    <tr>\n      <th>2</th>\n      <td>2016-01-30 13:00:00</td>\n      <td>0</td>\n      <td>1</td>\n      <td>0.667</td>\n      <td>0.667</td>\n      <td>0.333</td>\n      <td>2.000</td>\n      <td>4</td>\n      <td>4</td>\n      <td>1.000</td>\n      <td>...</td>\n      <td>9</td>\n      <td>-0.144</td>\n      <td>-0.708</td>\n      <td>-0.082</td>\n      <td>0.153</td>\n      <td>0.50</td>\n      <td>2.50</td>\n      <td>0</td>\n      <td>14.000000</td>\n      <td>14.000000</td>\n    </tr>\n    <tr>\n      <th>4</th>\n      <td>2016-01-30 16:00:00</td>\n      <td>0</td>\n      <td>1</td>\n      <td>1.667</td>\n      <td>0.667</td>\n      <td>1.000</td>\n      <td>0.500</td>\n      <td>4</td>\n      <td>8</td>\n      <td>0.333</td>\n      <td>...</td>\n      <td>10</td>\n      <td>0.031</td>\n      <td>0.111</td>\n      <td>0.082</td>\n      <td>-0.105</td>\n      <td>1.50</td>\n      <td>1.00</td>\n      <td>8</td>\n      <td>14.000000</td>\n      <td>14.000000</td>\n    </tr>\n    <tr>\n      <th>6</th>\n      <td>2016-01-31 13:00:00</td>\n      <td>0</td>\n      <td>1</td>\n      <td>0.333</td>\n      <td>0.667</td>\n      <td>0.667</td>\n      <td>0.667</td>\n      <td>3</td>\n      <td>8</td>\n      <td>1.000</td>\n      <td>...</td>\n      <td>7</td>\n      <td>-0.056</td>\n      <td>0.143</td>\n      <td>0.237</td>\n      <td>-0.612</td>\n      <td>1.50</td>\n      <td>0.25</td>\n      <td>8</td>\n      <td>14.000000</td>\n      <td>14.000000</td>\n    </tr>\n    <tr>\n      <th>8</th>\n      <td>2016-01-31 16:00:00</td>\n      <td>0</td>\n      <td>1</td>\n      <td>1.000</td>\n      <td>1.333</td>\n      <td>1.000</td>\n      <td>1.833</td>\n      <td>3</td>\n      <td>6</td>\n      <td>1.000</td>\n      <td>...</td>\n      <td>7</td>\n      <td>0.063</td>\n      <td>-0.508</td>\n      <td>-0.144</td>\n      <td>0.103</td>\n      <td>0.75</td>\n      <td>1.50</td>\n      <td>3</td>\n      <td>14.000000</td>\n      <td>14.000000</td>\n    </tr>\n    <tr>\n      <th>...</th>\n      <td>...</td>\n      <td>...</td>\n      <td>...</td>\n      <td>...</td>\n      <td>...</td>\n      <td>...</td>\n      <td>...</td>\n      <td>...</td>\n      <td>...</td>\n      <td>...</td>\n      <td>...</td>\n      <td>...</td>\n      <td>...</td>\n      <td>...</td>\n      <td>...</td>\n      <td>...</td>\n      <td>...</td>\n      <td>...</td>\n      <td>...</td>\n      <td>...</td>\n      <td>...</td>\n    </tr>\n    <tr>\n      <th>188360</th>\n      <td>2020-07-23 16:00:00</td>\n      <td>0</td>\n      <td>1</td>\n      <td>2.000</td>\n      <td>1.333</td>\n      <td>1.667</td>\n      <td>1.333</td>\n      <td>6</td>\n      <td>10</td>\n      <td>2.000</td>\n      <td>...</td>\n      <td>12</td>\n      <td>0.171</td>\n      <td>-0.036</td>\n      <td>-0.039</td>\n      <td>0.242</td>\n      <td>2.50</td>\n      <td>0.75</td>\n      <td>9</td>\n      <td>4.083333</td>\n      <td>14.000000</td>\n    </tr>\n    <tr>\n      <th>188362</th>\n      <td>2020-07-26 12:00:00</td>\n      <td>0</td>\n      <td>1</td>\n      <td>1.667</td>\n      <td>1.333</td>\n      <td>1.833</td>\n      <td>1.333</td>\n      <td>5</td>\n      <td>11</td>\n      <td>1.333</td>\n      <td>...</td>\n      <td>10</td>\n      <td>0.023</td>\n      <td>0.129</td>\n      <td>0.320</td>\n      <td>0.013</td>\n      <td>1.00</td>\n      <td>2.25</td>\n      <td>3</td>\n      <td>2.833333</td>\n      <td>2.833333</td>\n    </tr>\n    <tr>\n      <th>188364</th>\n      <td>2020-07-26 17:30:00</td>\n      <td>0</td>\n      <td>1</td>\n      <td>1.000</td>\n      <td>0.667</td>\n      <td>2.000</td>\n      <td>1.000</td>\n      <td>6</td>\n      <td>13</td>\n      <td>2.000</td>\n      <td>...</td>\n      <td>12</td>\n      <td>0.410</td>\n      <td>0.104</td>\n      <td>0.248</td>\n      <td>0.119</td>\n      <td>2.00</td>\n      <td>1.75</td>\n      <td>6</td>\n      <td>3.958333</td>\n      <td>3.958333</td>\n    </tr>\n    <tr>\n      <th>188366</th>\n      <td>2020-07-27 18:45:00</td>\n      <td>0</td>\n      <td>1</td>\n      <td>2.333</td>\n      <td>1.333</td>\n      <td>1.833</td>\n      <td>1.167</td>\n      <td>6</td>\n      <td>12</td>\n      <td>0.667</td>\n      <td>...</td>\n      <td>14</td>\n      <td>0.159</td>\n      <td>0.013</td>\n      <td>0.117</td>\n      <td>0.186</td>\n      <td>1.25</td>\n      <td>1.50</td>\n      <td>4</td>\n      <td>5.010417</td>\n      <td>5.010417</td>\n    </tr>\n    <tr>\n      <th>188368</th>\n      <td>2020-07-28 15:10:00</td>\n      <td>0</td>\n      <td>1</td>\n      <td>2.667</td>\n      <td>0.333</td>\n      <td>1.833</td>\n      <td>1.667</td>\n      <td>9</td>\n      <td>10</td>\n      <td>1.000</td>\n      <td>...</td>\n      <td>11</td>\n      <td>0.622</td>\n      <td>-0.428</td>\n      <td>0.257</td>\n      <td>-0.143</td>\n      <td>2.00</td>\n      <td>1.50</td>\n      <td>3</td>\n      <td>2.979167</td>\n      <td>2.979167</td>\n    </tr>\n  </tbody>\n</table>\n<p>94185 rows × 24 columns</p>\n</div>"
     },
     "metadata": {},
     "execution_count": 3
    }
   ],
   "source": [
    "home_train = home_football_data.drop(label_columns, axis=1)\n",
    "home_train_result = home_football_data['result_type']  # 경기 결과 (승=0, 무=1, 패=2)\n",
    "\n",
    "home_train"
   ]
  },
  {
   "cell_type": "code",
   "execution_count": 4,
   "metadata": {},
   "outputs": [
    {
     "output_type": "execute_result",
     "data": {
      "text/plain": "                 match_time  camp_type  league_type  my_camp_3matches_gf_avg  \\\n1       2016-01-30 13:00:00          1            1                    1.333   \n3       2016-01-30 13:00:00          1            1                    1.000   \n5       2016-01-30 16:00:00          1            1                    0.333   \n7       2016-01-31 13:00:00          1            1                    1.000   \n9       2016-01-31 16:00:00          1            1                    1.000   \n...                     ...        ...          ...                      ...   \n188361  2020-07-23 16:00:00          1            1                    2.000   \n188363  2020-07-26 12:00:00          1            1                    1.333   \n188365  2020-07-26 17:30:00          1            1                    2.000   \n188367  2020-07-27 18:45:00          1            1                    0.667   \n188369  2020-07-28 15:10:00          1            1                    1.000   \n\n        my_camp_3matches_ga_avg  my_6matches_gf_avg  my_6matches_ga_avg  \\\n1                         1.333               1.833               1.000   \n3                         0.000               0.667               0.333   \n5                         1.667               1.333               1.000   \n7                         2.667               1.333               2.000   \n9                         0.667               0.500               0.667   \n...                         ...                 ...                 ...   \n188361                    0.667               1.833               1.000   \n188363                    1.333               1.833               1.333   \n188365                    0.667               1.667               0.833   \n188367                    0.333               1.667               0.667   \n188369                    1.333               1.500               1.167   \n\n        my_camp_3matches_pts  my_6matches_pts  op_camp_3matches_gf_avg  ...  \\\n1                          6               12                    3.000  ...   \n3                          7                9                    0.667  ...   \n5                          3               10                    1.667  ...   \n7                          1                7                    0.333  ...   \n9                          6                7                    1.000  ...   \n...                      ...              ...                      ...  ...   \n188361                     7               12                    2.000  ...   \n188363                     4               10                    1.667  ...   \n188365                     6               12                    1.000  ...   \n188367                     5               14                    2.333  ...   \n188369                     6               11                    2.667  ...   \n\n        op_6matches_pts  my_att_trend  my_def_trend  op_att_trend  \\\n1                    10         0.670         0.093         0.311   \n3                     4        -0.082         0.153        -0.144   \n5                     8         0.082        -0.105         0.031   \n7                     8         0.237        -0.612        -0.056   \n9                     6        -0.144         0.103         0.063   \n...                 ...           ...           ...           ...   \n188361               10        -0.039         0.242         0.171   \n188363               11         0.320         0.013         0.023   \n188365               13         0.248         0.119         0.410   \n188367               12         0.117         0.186         0.159   \n188369               10         0.257        -0.143         0.622   \n\n        op_def_trend  h2h_4matches_gf_avg  h2h_4matches_ga_avg  \\\n1              0.030                 2.25                 0.50   \n3             -0.708                 2.50                 0.50   \n5              0.111                 1.00                 1.50   \n7              0.143                 0.25                 1.50   \n9             -0.508                 1.50                 0.75   \n...              ...                  ...                  ...   \n188361        -0.036                 0.75                 2.50   \n188363         0.129                 2.25                 1.00   \n188365         0.104                 1.75                 2.00   \n188367         0.013                 1.50                 1.25   \n188369        -0.428                 1.50                 2.00   \n\n        h2h_4matches_pts  my_rest_period  op_rest_period  \n1                     12       14.000000       14.000000  \n3                      6       14.000000       14.000000  \n5                      2       14.000000       14.000000  \n7                      2       14.000000       14.000000  \n9                      9       14.000000       14.000000  \n...                  ...             ...             ...  \n188361                 3       14.000000        4.083333  \n188363                 9        2.833333        2.833333  \n188365                 6        3.958333        3.958333  \n188367                 7        5.010417        5.010417  \n188369                 3        2.979167        2.979167  \n\n[94185 rows x 24 columns]",
      "text/html": "<div>\n<style scoped>\n    .dataframe tbody tr th:only-of-type {\n        vertical-align: middle;\n    }\n\n    .dataframe tbody tr th {\n        vertical-align: top;\n    }\n\n    .dataframe thead th {\n        text-align: right;\n    }\n</style>\n<table border=\"1\" class=\"dataframe\">\n  <thead>\n    <tr style=\"text-align: right;\">\n      <th></th>\n      <th>match_time</th>\n      <th>camp_type</th>\n      <th>league_type</th>\n      <th>my_camp_3matches_gf_avg</th>\n      <th>my_camp_3matches_ga_avg</th>\n      <th>my_6matches_gf_avg</th>\n      <th>my_6matches_ga_avg</th>\n      <th>my_camp_3matches_pts</th>\n      <th>my_6matches_pts</th>\n      <th>op_camp_3matches_gf_avg</th>\n      <th>...</th>\n      <th>op_6matches_pts</th>\n      <th>my_att_trend</th>\n      <th>my_def_trend</th>\n      <th>op_att_trend</th>\n      <th>op_def_trend</th>\n      <th>h2h_4matches_gf_avg</th>\n      <th>h2h_4matches_ga_avg</th>\n      <th>h2h_4matches_pts</th>\n      <th>my_rest_period</th>\n      <th>op_rest_period</th>\n    </tr>\n  </thead>\n  <tbody>\n    <tr>\n      <th>1</th>\n      <td>2016-01-30 13:00:00</td>\n      <td>1</td>\n      <td>1</td>\n      <td>1.333</td>\n      <td>1.333</td>\n      <td>1.833</td>\n      <td>1.000</td>\n      <td>6</td>\n      <td>12</td>\n      <td>3.000</td>\n      <td>...</td>\n      <td>10</td>\n      <td>0.670</td>\n      <td>0.093</td>\n      <td>0.311</td>\n      <td>0.030</td>\n      <td>2.25</td>\n      <td>0.50</td>\n      <td>12</td>\n      <td>14.000000</td>\n      <td>14.000000</td>\n    </tr>\n    <tr>\n      <th>3</th>\n      <td>2016-01-30 13:00:00</td>\n      <td>1</td>\n      <td>1</td>\n      <td>1.000</td>\n      <td>0.000</td>\n      <td>0.667</td>\n      <td>0.333</td>\n      <td>7</td>\n      <td>9</td>\n      <td>0.667</td>\n      <td>...</td>\n      <td>4</td>\n      <td>-0.082</td>\n      <td>0.153</td>\n      <td>-0.144</td>\n      <td>-0.708</td>\n      <td>2.50</td>\n      <td>0.50</td>\n      <td>6</td>\n      <td>14.000000</td>\n      <td>14.000000</td>\n    </tr>\n    <tr>\n      <th>5</th>\n      <td>2016-01-30 16:00:00</td>\n      <td>1</td>\n      <td>1</td>\n      <td>0.333</td>\n      <td>1.667</td>\n      <td>1.333</td>\n      <td>1.000</td>\n      <td>3</td>\n      <td>10</td>\n      <td>1.667</td>\n      <td>...</td>\n      <td>8</td>\n      <td>0.082</td>\n      <td>-0.105</td>\n      <td>0.031</td>\n      <td>0.111</td>\n      <td>1.00</td>\n      <td>1.50</td>\n      <td>2</td>\n      <td>14.000000</td>\n      <td>14.000000</td>\n    </tr>\n    <tr>\n      <th>7</th>\n      <td>2016-01-31 13:00:00</td>\n      <td>1</td>\n      <td>1</td>\n      <td>1.000</td>\n      <td>2.667</td>\n      <td>1.333</td>\n      <td>2.000</td>\n      <td>1</td>\n      <td>7</td>\n      <td>0.333</td>\n      <td>...</td>\n      <td>8</td>\n      <td>0.237</td>\n      <td>-0.612</td>\n      <td>-0.056</td>\n      <td>0.143</td>\n      <td>0.25</td>\n      <td>1.50</td>\n      <td>2</td>\n      <td>14.000000</td>\n      <td>14.000000</td>\n    </tr>\n    <tr>\n      <th>9</th>\n      <td>2016-01-31 16:00:00</td>\n      <td>1</td>\n      <td>1</td>\n      <td>1.000</td>\n      <td>0.667</td>\n      <td>0.500</td>\n      <td>0.667</td>\n      <td>6</td>\n      <td>7</td>\n      <td>1.000</td>\n      <td>...</td>\n      <td>6</td>\n      <td>-0.144</td>\n      <td>0.103</td>\n      <td>0.063</td>\n      <td>-0.508</td>\n      <td>1.50</td>\n      <td>0.75</td>\n      <td>9</td>\n      <td>14.000000</td>\n      <td>14.000000</td>\n    </tr>\n    <tr>\n      <th>...</th>\n      <td>...</td>\n      <td>...</td>\n      <td>...</td>\n      <td>...</td>\n      <td>...</td>\n      <td>...</td>\n      <td>...</td>\n      <td>...</td>\n      <td>...</td>\n      <td>...</td>\n      <td>...</td>\n      <td>...</td>\n      <td>...</td>\n      <td>...</td>\n      <td>...</td>\n      <td>...</td>\n      <td>...</td>\n      <td>...</td>\n      <td>...</td>\n      <td>...</td>\n      <td>...</td>\n    </tr>\n    <tr>\n      <th>188361</th>\n      <td>2020-07-23 16:00:00</td>\n      <td>1</td>\n      <td>1</td>\n      <td>2.000</td>\n      <td>0.667</td>\n      <td>1.833</td>\n      <td>1.000</td>\n      <td>7</td>\n      <td>12</td>\n      <td>2.000</td>\n      <td>...</td>\n      <td>10</td>\n      <td>-0.039</td>\n      <td>0.242</td>\n      <td>0.171</td>\n      <td>-0.036</td>\n      <td>0.75</td>\n      <td>2.50</td>\n      <td>3</td>\n      <td>14.000000</td>\n      <td>4.083333</td>\n    </tr>\n    <tr>\n      <th>188363</th>\n      <td>2020-07-26 12:00:00</td>\n      <td>1</td>\n      <td>1</td>\n      <td>1.333</td>\n      <td>1.333</td>\n      <td>1.833</td>\n      <td>1.333</td>\n      <td>4</td>\n      <td>10</td>\n      <td>1.667</td>\n      <td>...</td>\n      <td>11</td>\n      <td>0.320</td>\n      <td>0.013</td>\n      <td>0.023</td>\n      <td>0.129</td>\n      <td>2.25</td>\n      <td>1.00</td>\n      <td>9</td>\n      <td>2.833333</td>\n      <td>2.833333</td>\n    </tr>\n    <tr>\n      <th>188365</th>\n      <td>2020-07-26 17:30:00</td>\n      <td>1</td>\n      <td>1</td>\n      <td>2.000</td>\n      <td>0.667</td>\n      <td>1.667</td>\n      <td>0.833</td>\n      <td>6</td>\n      <td>12</td>\n      <td>1.000</td>\n      <td>...</td>\n      <td>13</td>\n      <td>0.248</td>\n      <td>0.119</td>\n      <td>0.410</td>\n      <td>0.104</td>\n      <td>1.75</td>\n      <td>2.00</td>\n      <td>6</td>\n      <td>3.958333</td>\n      <td>3.958333</td>\n    </tr>\n    <tr>\n      <th>188367</th>\n      <td>2020-07-27 18:45:00</td>\n      <td>1</td>\n      <td>1</td>\n      <td>0.667</td>\n      <td>0.333</td>\n      <td>1.667</td>\n      <td>0.667</td>\n      <td>5</td>\n      <td>14</td>\n      <td>2.333</td>\n      <td>...</td>\n      <td>12</td>\n      <td>0.117</td>\n      <td>0.186</td>\n      <td>0.159</td>\n      <td>0.013</td>\n      <td>1.50</td>\n      <td>1.25</td>\n      <td>7</td>\n      <td>5.010417</td>\n      <td>5.010417</td>\n    </tr>\n    <tr>\n      <th>188369</th>\n      <td>2020-07-28 15:10:00</td>\n      <td>1</td>\n      <td>1</td>\n      <td>1.000</td>\n      <td>1.333</td>\n      <td>1.500</td>\n      <td>1.167</td>\n      <td>6</td>\n      <td>11</td>\n      <td>2.667</td>\n      <td>...</td>\n      <td>10</td>\n      <td>0.257</td>\n      <td>-0.143</td>\n      <td>0.622</td>\n      <td>-0.428</td>\n      <td>1.50</td>\n      <td>2.00</td>\n      <td>3</td>\n      <td>2.979167</td>\n      <td>2.979167</td>\n    </tr>\n  </tbody>\n</table>\n<p>94185 rows × 24 columns</p>\n</div>"
     },
     "metadata": {},
     "execution_count": 4
    }
   ],
   "source": [
    "away_train = away_football_data.drop(label_columns, axis=1)\n",
    "away_train_result = away_football_data['result_type']  # 경기 결과 (승=0, 무=1, 패=2)\n",
    "\n",
    "away_train"
   ]
  },
  {
   "cell_type": "markdown",
   "metadata": {},
   "source": [
    "# 특성 처리"
   ]
  },
  {
   "cell_type": "code",
   "execution_count": 5,
   "metadata": {},
   "outputs": [],
   "source": [
    "import machine_learning.utility as utility\n",
    "\n",
    "league_cat = utility.LeagueTypeCategorize()"
   ]
  },
  {
   "cell_type": "markdown",
   "metadata": {},
   "source": [
    "## 기존 예측 모델에서 데이터 얻기"
   ]
  },
  {
   "cell_type": "code",
   "execution_count": 6,
   "metadata": {},
   "outputs": [],
   "source": [
    "from machine_learning.utility import load_sklearn_model\n",
    "\n",
    "\n",
    "knn_clf_home = load_sklearn_model('result/knn_clf_result_home.pkl')\n",
    "knn_clf_away = load_sklearn_model('result/knn_clf_result_away.pkl')\n",
    "\n",
    "rft_clf_home = load_sklearn_model('result/rft_clf_result_home.pkl')\n",
    "rft_clf_away = load_sklearn_model('result/rft_clf_result_away.pkl')\n",
    "\n",
    "sgd_clf_home = load_sklearn_model('result/sgd_clf_result_home.pkl')\n",
    "sgd_clf_away = load_sklearn_model('result/sgd_clf_result_away.pkl')"
   ]
  },
  {
   "cell_type": "code",
   "execution_count": 7,
   "metadata": {},
   "outputs": [],
   "source": [
    "knn_home_pred = knn_clf_home.predict_proba(home_train)\n",
    "knn_away_pred = knn_clf_away.predict_proba(away_train)\n",
    "\n",
    "rft_home_pred = rft_clf_home.predict_proba(home_train)\n",
    "rft_away_pred = rft_clf_away.predict_proba(away_train)\n",
    "\n",
    "sgd_home_pred = sgd_clf_home.predict_proba(home_train)\n",
    "sgd_away_pred = sgd_clf_away.predict_proba(away_train)"
   ]
  },
  {
   "cell_type": "code",
   "execution_count": 8,
   "metadata": {
    "tags": []
   },
   "outputs": [],
   "source": [
    "import numpy as np\n",
    "\n",
    "\n",
    "home_camp_features = np.c_[np.ones(len(home_train)), np.zeros(len(home_train)), league_cat.transform(home_train),\n",
    "                           knn_home_pred, knn_away_pred, rft_home_pred, rft_away_pred, sgd_home_pred, sgd_away_pred]\n",
    "away_camp_features = np.c_[np.zeros(len(away_train)), np.ones(len(away_train)), league_cat.transform(away_train),\n",
    "                           knn_away_pred, knn_home_pred, rft_away_pred, rft_home_pred, sgd_away_pred, sgd_home_pred]"
   ]
  },
  {
   "cell_type": "code",
   "execution_count": 9,
   "metadata": {},
   "outputs": [
    {
     "output_type": "execute_result",
     "data": {
      "text/plain": "array([[0.        , 1.        , 0.        , ..., 0.43887381, 0.2366502 ,\n        0.32447599],\n       [0.        , 1.        , 0.        , ..., 0.2241872 , 0.2751618 ,\n        0.500651  ],\n       [0.        , 1.        , 0.        , ..., 0.56393988, 0.26253108,\n        0.17352904],\n       ...,\n       [0.        , 1.        , 0.        , ..., 0.50594045, 0.24896186,\n        0.24509769],\n       [0.        , 1.        , 0.        , ..., 0.46758079, 0.26750306,\n        0.26491615],\n       [0.        , 1.        , 0.        , ..., 0.53665222, 0.25544146,\n        0.20790631]])"
     },
     "metadata": {},
     "execution_count": 9
    }
   ],
   "source": [
    "away_camp_features"
   ]
  },
  {
   "cell_type": "code",
   "execution_count": 10,
   "metadata": {},
   "outputs": [],
   "source": [
    "train_X = np.r_[home_camp_features, away_camp_features]\n",
    "train_Y = np.r_[home_train_result, away_train_result]"
   ]
  },
  {
   "cell_type": "code",
   "execution_count": 11,
   "metadata": {
    "tags": []
   },
   "outputs": [
    {
     "output_type": "stream",
     "name": "stdout",
     "text": "점수: [1. 1. 1.]\n평균: 1.0\n표준 편차: 0.0\n"
    }
   ],
   "source": [
    "from sklearn.linear_model import SGDClassifier\n",
    "from machine_learning.utility import display_scores\n",
    "from sklearn.model_selection import cross_val_score\n",
    "\n",
    "\n",
    "sgd_clf = SGDClassifier(max_iter=3000, tol=1e-3, random_state=42, alpha=0.001, loss='log')\n",
    "sgd_clf.fit(train_X, train_Y)\n",
    "\n",
    "scores = cross_val_score(sgd_clf, train_X, train_Y, cv=3, scoring=\"accuracy\")\n",
    "display_scores(scores)"
   ]
  },
  {
   "cell_type": "code",
   "execution_count": 14,
   "metadata": {
    "tags": []
   },
   "outputs": [
    {
     "output_type": "stream",
     "name": "stdout",
     "text": "점수: [1. 1. 1.]\n평균: 1.0\n표준 편차: 0.0\n"
    }
   ],
   "source": [
    "from sklearn.neighbors import KNeighborsClassifier\n",
    "\n",
    "\n",
    "knn_clf = KNeighborsClassifier(n_neighbors=25, weights='distance')\n",
    "knn_clf.fit(train_X, train_Y)\n",
    "\n",
    "scores = cross_val_score(knn_clf, train_X, train_Y, cv=3, scoring=\"accuracy\")\n",
    "display_scores(scores)"
   ]
  },
  {
   "cell_type": "code",
   "execution_count": null,
   "metadata": {},
   "outputs": [],
   "source": []
  }
 ]
}