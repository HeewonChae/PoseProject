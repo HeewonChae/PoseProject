{
 "metadata": {
  "language_info": {
   "codemirror_mode": {
    "name": "ipython",
    "version": 3
   },
   "file_extension": ".py",
   "mimetype": "text/x-python",
   "name": "python",
   "nbconvert_exporter": "python",
   "pygments_lexer": "ipython3",
   "version": 3
  },
  "orig_nbformat": 2,
  "kernelspec": {
   "name": "python_defaultSpec_1596345871291",
   "display_name": "Python 3.6.10 64-bit ('tensor_gpu': conda)"
  }
 },
 "nbformat": 4,
 "nbformat_minor": 2,
 "cells": [
  {
   "cell_type": "code",
   "execution_count": 1,
   "metadata": {
    "tags": []
   },
   "outputs": [
    {
     "output_type": "stream",
     "name": "stdout",
     "text": "football file count: 55\nfootball data shape: (188370, 37)\n"
    },
    {
     "output_type": "execute_result",
     "data": {
      "text/plain": "            match_time  camp_type  league_type  my_camp_3matches_gf_avg  \\\n0  2016-01-30 13:00:00          0            1                    3.000   \n1  2016-01-30 13:00:00          1            1                    1.333   \n2  2016-01-30 13:00:00          0            1                    0.667   \n3  2016-01-30 13:00:00          1            1                    1.000   \n4  2016-01-30 16:00:00          0            1                    1.667   \n\n   my_camp_3matches_ga_avg  my_6matches_gf_avg  my_6matches_ga_avg  \\\n0                    0.667               1.500               0.833   \n1                    1.333               1.833               1.000   \n2                    0.667               0.333               2.000   \n3                    0.000               0.667               0.333   \n4                    0.667               1.000               0.500   \n\n   my_camp_3matches_pts  my_6matches_pts  op_camp_3matches_gf_avg  ...  \\\n0                     9               10                    1.333  ...   \n1                     6               12                    3.000  ...   \n2                     4                4                    1.000  ...   \n3                     7                9                    0.667  ...   \n4                     4                8                    0.333  ...   \n\n   1.5_under  1.5_over  2.5_under  2.5_over  3.5_under  3.5_over  4.5_under  \\\n0          1         0          1         0          1         0          1   \n1          1         0          1         0          1         0          1   \n2          0         1          0         1          0         1          1   \n3          0         1          0         1          0         1          1   \n4          0         1          1         0          1         0          1   \n\n   4.5_over  5.5_under  5.5_over  \n0         0          1         0  \n1         0          1         0  \n2         0          1         0  \n3         0          1         0  \n4         0          1         0  \n\n[5 rows x 37 columns]",
      "text/html": "<div>\n<style scoped>\n    .dataframe tbody tr th:only-of-type {\n        vertical-align: middle;\n    }\n\n    .dataframe tbody tr th {\n        vertical-align: top;\n    }\n\n    .dataframe thead th {\n        text-align: right;\n    }\n</style>\n<table border=\"1\" class=\"dataframe\">\n  <thead>\n    <tr style=\"text-align: right;\">\n      <th></th>\n      <th>match_time</th>\n      <th>camp_type</th>\n      <th>league_type</th>\n      <th>my_camp_3matches_gf_avg</th>\n      <th>my_camp_3matches_ga_avg</th>\n      <th>my_6matches_gf_avg</th>\n      <th>my_6matches_ga_avg</th>\n      <th>my_camp_3matches_pts</th>\n      <th>my_6matches_pts</th>\n      <th>op_camp_3matches_gf_avg</th>\n      <th>...</th>\n      <th>1.5_under</th>\n      <th>1.5_over</th>\n      <th>2.5_under</th>\n      <th>2.5_over</th>\n      <th>3.5_under</th>\n      <th>3.5_over</th>\n      <th>4.5_under</th>\n      <th>4.5_over</th>\n      <th>5.5_under</th>\n      <th>5.5_over</th>\n    </tr>\n  </thead>\n  <tbody>\n    <tr>\n      <th>0</th>\n      <td>2016-01-30 13:00:00</td>\n      <td>0</td>\n      <td>1</td>\n      <td>3.000</td>\n      <td>0.667</td>\n      <td>1.500</td>\n      <td>0.833</td>\n      <td>9</td>\n      <td>10</td>\n      <td>1.333</td>\n      <td>...</td>\n      <td>1</td>\n      <td>0</td>\n      <td>1</td>\n      <td>0</td>\n      <td>1</td>\n      <td>0</td>\n      <td>1</td>\n      <td>0</td>\n      <td>1</td>\n      <td>0</td>\n    </tr>\n    <tr>\n      <th>1</th>\n      <td>2016-01-30 13:00:00</td>\n      <td>1</td>\n      <td>1</td>\n      <td>1.333</td>\n      <td>1.333</td>\n      <td>1.833</td>\n      <td>1.000</td>\n      <td>6</td>\n      <td>12</td>\n      <td>3.000</td>\n      <td>...</td>\n      <td>1</td>\n      <td>0</td>\n      <td>1</td>\n      <td>0</td>\n      <td>1</td>\n      <td>0</td>\n      <td>1</td>\n      <td>0</td>\n      <td>1</td>\n      <td>0</td>\n    </tr>\n    <tr>\n      <th>2</th>\n      <td>2016-01-30 13:00:00</td>\n      <td>0</td>\n      <td>1</td>\n      <td>0.667</td>\n      <td>0.667</td>\n      <td>0.333</td>\n      <td>2.000</td>\n      <td>4</td>\n      <td>4</td>\n      <td>1.000</td>\n      <td>...</td>\n      <td>0</td>\n      <td>1</td>\n      <td>0</td>\n      <td>1</td>\n      <td>0</td>\n      <td>1</td>\n      <td>1</td>\n      <td>0</td>\n      <td>1</td>\n      <td>0</td>\n    </tr>\n    <tr>\n      <th>3</th>\n      <td>2016-01-30 13:00:00</td>\n      <td>1</td>\n      <td>1</td>\n      <td>1.000</td>\n      <td>0.000</td>\n      <td>0.667</td>\n      <td>0.333</td>\n      <td>7</td>\n      <td>9</td>\n      <td>0.667</td>\n      <td>...</td>\n      <td>0</td>\n      <td>1</td>\n      <td>0</td>\n      <td>1</td>\n      <td>0</td>\n      <td>1</td>\n      <td>1</td>\n      <td>0</td>\n      <td>1</td>\n      <td>0</td>\n    </tr>\n    <tr>\n      <th>4</th>\n      <td>2016-01-30 16:00:00</td>\n      <td>0</td>\n      <td>1</td>\n      <td>1.667</td>\n      <td>0.667</td>\n      <td>1.000</td>\n      <td>0.500</td>\n      <td>4</td>\n      <td>8</td>\n      <td>0.333</td>\n      <td>...</td>\n      <td>0</td>\n      <td>1</td>\n      <td>1</td>\n      <td>0</td>\n      <td>1</td>\n      <td>0</td>\n      <td>1</td>\n      <td>0</td>\n      <td>1</td>\n      <td>0</td>\n    </tr>\n  </tbody>\n</table>\n<p>5 rows × 37 columns</p>\n</div>"
     },
     "metadata": {},
     "execution_count": 1
    }
   ],
   "source": [
    "import load_data\n",
    "import enums\n",
    "\n",
    "football_data = load_data.load_data(enums.SportsType.Football, enums.CampType.Any)\n",
    "football_data.head()"
   ]
  },
  {
   "cell_type": "code",
   "execution_count": 2,
   "metadata": {},
   "outputs": [
    {
     "output_type": "execute_result",
     "data": {
      "text/plain": "                 match_time  camp_type  league_type  my_camp_3matches_gf_avg  \\\n0       2016-01-30 13:00:00          0            1                    3.000   \n1       2016-01-30 13:00:00          1            1                    1.333   \n2       2016-01-30 13:00:00          0            1                    0.667   \n3       2016-01-30 13:00:00          1            1                    1.000   \n4       2016-01-30 16:00:00          0            1                    1.667   \n...                     ...        ...          ...                      ...   \n188365  2020-07-26 17:30:00          1            1                    2.000   \n188366  2020-07-27 18:45:00          0            1                    2.333   \n188367  2020-07-27 18:45:00          1            1                    0.667   \n188368  2020-07-28 15:10:00          0            1                    2.667   \n188369  2020-07-28 15:10:00          1            1                    1.000   \n\n        my_camp_3matches_ga_avg  my_6matches_gf_avg  my_6matches_ga_avg  \\\n0                         0.667               1.500               0.833   \n1                         1.333               1.833               1.000   \n2                         0.667               0.333               2.000   \n3                         0.000               0.667               0.333   \n4                         0.667               1.000               0.500   \n...                         ...                 ...                 ...   \n188365                    0.667               1.667               0.833   \n188366                    1.333               1.833               1.167   \n188367                    0.333               1.667               0.667   \n188368                    0.333               1.833               1.667   \n188369                    1.333               1.500               1.167   \n\n        my_camp_3matches_pts  my_6matches_pts  op_camp_3matches_gf_avg  ...  \\\n0                          9               10                    1.333  ...   \n1                          6               12                    3.000  ...   \n2                          4                4                    1.000  ...   \n3                          7                9                    0.667  ...   \n4                          4                8                    0.333  ...   \n...                      ...              ...                      ...  ...   \n188365                     6               12                    1.000  ...   \n188366                     6               12                    0.667  ...   \n188367                     5               14                    2.333  ...   \n188368                     9               10                    1.000  ...   \n188369                     6               11                    2.667  ...   \n\n        op_6matches_pts  my_att_trend  my_def_trend  op_att_trend  \\\n0                    12         0.311         0.030         0.670   \n1                    10         0.670         0.093         0.311   \n2                     9        -0.144        -0.708        -0.082   \n3                     4        -0.082         0.153        -0.144   \n4                    10         0.031         0.111         0.082   \n...                 ...           ...           ...           ...   \n188365               13         0.248         0.119         0.410   \n188366               14         0.159         0.013         0.117   \n188367               12         0.117         0.186         0.159   \n188368               11         0.622        -0.428         0.257   \n188369               10         0.257        -0.143         0.622   \n\n        op_def_trend  h2h_4matches_gf_avg  h2h_4matches_ga_avg  \\\n0              0.093                 0.50                 2.25   \n1              0.030                 2.25                 0.50   \n2              0.153                 0.50                 2.50   \n3             -0.708                 2.50                 0.50   \n4             -0.105                 1.50                 1.00   \n...              ...                  ...                  ...   \n188365         0.104                 1.75                 2.00   \n188366         0.186                 1.25                 1.50   \n188367         0.013                 1.50                 1.25   \n188368        -0.143                 2.00                 1.50   \n188369        -0.428                 1.50                 2.00   \n\n        h2h_4matches_pts  my_rest_period  op_rest_period  \n0                      0       14.000000       14.000000  \n1                     12       14.000000       14.000000  \n2                      0       14.000000       14.000000  \n3                      6       14.000000       14.000000  \n4                      8       14.000000       14.000000  \n...                  ...             ...             ...  \n188365                 6        3.958333        3.958333  \n188366                 4        5.010417        5.010417  \n188367                 7        5.010417        5.010417  \n188368                 3        2.979167        2.979167  \n188369                 3        2.979167        2.979167  \n\n[188370 rows x 24 columns]",
      "text/html": "<div>\n<style scoped>\n    .dataframe tbody tr th:only-of-type {\n        vertical-align: middle;\n    }\n\n    .dataframe tbody tr th {\n        vertical-align: top;\n    }\n\n    .dataframe thead th {\n        text-align: right;\n    }\n</style>\n<table border=\"1\" class=\"dataframe\">\n  <thead>\n    <tr style=\"text-align: right;\">\n      <th></th>\n      <th>match_time</th>\n      <th>camp_type</th>\n      <th>league_type</th>\n      <th>my_camp_3matches_gf_avg</th>\n      <th>my_camp_3matches_ga_avg</th>\n      <th>my_6matches_gf_avg</th>\n      <th>my_6matches_ga_avg</th>\n      <th>my_camp_3matches_pts</th>\n      <th>my_6matches_pts</th>\n      <th>op_camp_3matches_gf_avg</th>\n      <th>...</th>\n      <th>op_6matches_pts</th>\n      <th>my_att_trend</th>\n      <th>my_def_trend</th>\n      <th>op_att_trend</th>\n      <th>op_def_trend</th>\n      <th>h2h_4matches_gf_avg</th>\n      <th>h2h_4matches_ga_avg</th>\n      <th>h2h_4matches_pts</th>\n      <th>my_rest_period</th>\n      <th>op_rest_period</th>\n    </tr>\n  </thead>\n  <tbody>\n    <tr>\n      <th>0</th>\n      <td>2016-01-30 13:00:00</td>\n      <td>0</td>\n      <td>1</td>\n      <td>3.000</td>\n      <td>0.667</td>\n      <td>1.500</td>\n      <td>0.833</td>\n      <td>9</td>\n      <td>10</td>\n      <td>1.333</td>\n      <td>...</td>\n      <td>12</td>\n      <td>0.311</td>\n      <td>0.030</td>\n      <td>0.670</td>\n      <td>0.093</td>\n      <td>0.50</td>\n      <td>2.25</td>\n      <td>0</td>\n      <td>14.000000</td>\n      <td>14.000000</td>\n    </tr>\n    <tr>\n      <th>1</th>\n      <td>2016-01-30 13:00:00</td>\n      <td>1</td>\n      <td>1</td>\n      <td>1.333</td>\n      <td>1.333</td>\n      <td>1.833</td>\n      <td>1.000</td>\n      <td>6</td>\n      <td>12</td>\n      <td>3.000</td>\n      <td>...</td>\n      <td>10</td>\n      <td>0.670</td>\n      <td>0.093</td>\n      <td>0.311</td>\n      <td>0.030</td>\n      <td>2.25</td>\n      <td>0.50</td>\n      <td>12</td>\n      <td>14.000000</td>\n      <td>14.000000</td>\n    </tr>\n    <tr>\n      <th>2</th>\n      <td>2016-01-30 13:00:00</td>\n      <td>0</td>\n      <td>1</td>\n      <td>0.667</td>\n      <td>0.667</td>\n      <td>0.333</td>\n      <td>2.000</td>\n      <td>4</td>\n      <td>4</td>\n      <td>1.000</td>\n      <td>...</td>\n      <td>9</td>\n      <td>-0.144</td>\n      <td>-0.708</td>\n      <td>-0.082</td>\n      <td>0.153</td>\n      <td>0.50</td>\n      <td>2.50</td>\n      <td>0</td>\n      <td>14.000000</td>\n      <td>14.000000</td>\n    </tr>\n    <tr>\n      <th>3</th>\n      <td>2016-01-30 13:00:00</td>\n      <td>1</td>\n      <td>1</td>\n      <td>1.000</td>\n      <td>0.000</td>\n      <td>0.667</td>\n      <td>0.333</td>\n      <td>7</td>\n      <td>9</td>\n      <td>0.667</td>\n      <td>...</td>\n      <td>4</td>\n      <td>-0.082</td>\n      <td>0.153</td>\n      <td>-0.144</td>\n      <td>-0.708</td>\n      <td>2.50</td>\n      <td>0.50</td>\n      <td>6</td>\n      <td>14.000000</td>\n      <td>14.000000</td>\n    </tr>\n    <tr>\n      <th>4</th>\n      <td>2016-01-30 16:00:00</td>\n      <td>0</td>\n      <td>1</td>\n      <td>1.667</td>\n      <td>0.667</td>\n      <td>1.000</td>\n      <td>0.500</td>\n      <td>4</td>\n      <td>8</td>\n      <td>0.333</td>\n      <td>...</td>\n      <td>10</td>\n      <td>0.031</td>\n      <td>0.111</td>\n      <td>0.082</td>\n      <td>-0.105</td>\n      <td>1.50</td>\n      <td>1.00</td>\n      <td>8</td>\n      <td>14.000000</td>\n      <td>14.000000</td>\n    </tr>\n    <tr>\n      <th>...</th>\n      <td>...</td>\n      <td>...</td>\n      <td>...</td>\n      <td>...</td>\n      <td>...</td>\n      <td>...</td>\n      <td>...</td>\n      <td>...</td>\n      <td>...</td>\n      <td>...</td>\n      <td>...</td>\n      <td>...</td>\n      <td>...</td>\n      <td>...</td>\n      <td>...</td>\n      <td>...</td>\n      <td>...</td>\n      <td>...</td>\n      <td>...</td>\n      <td>...</td>\n      <td>...</td>\n    </tr>\n    <tr>\n      <th>188365</th>\n      <td>2020-07-26 17:30:00</td>\n      <td>1</td>\n      <td>1</td>\n      <td>2.000</td>\n      <td>0.667</td>\n      <td>1.667</td>\n      <td>0.833</td>\n      <td>6</td>\n      <td>12</td>\n      <td>1.000</td>\n      <td>...</td>\n      <td>13</td>\n      <td>0.248</td>\n      <td>0.119</td>\n      <td>0.410</td>\n      <td>0.104</td>\n      <td>1.75</td>\n      <td>2.00</td>\n      <td>6</td>\n      <td>3.958333</td>\n      <td>3.958333</td>\n    </tr>\n    <tr>\n      <th>188366</th>\n      <td>2020-07-27 18:45:00</td>\n      <td>0</td>\n      <td>1</td>\n      <td>2.333</td>\n      <td>1.333</td>\n      <td>1.833</td>\n      <td>1.167</td>\n      <td>6</td>\n      <td>12</td>\n      <td>0.667</td>\n      <td>...</td>\n      <td>14</td>\n      <td>0.159</td>\n      <td>0.013</td>\n      <td>0.117</td>\n      <td>0.186</td>\n      <td>1.25</td>\n      <td>1.50</td>\n      <td>4</td>\n      <td>5.010417</td>\n      <td>5.010417</td>\n    </tr>\n    <tr>\n      <th>188367</th>\n      <td>2020-07-27 18:45:00</td>\n      <td>1</td>\n      <td>1</td>\n      <td>0.667</td>\n      <td>0.333</td>\n      <td>1.667</td>\n      <td>0.667</td>\n      <td>5</td>\n      <td>14</td>\n      <td>2.333</td>\n      <td>...</td>\n      <td>12</td>\n      <td>0.117</td>\n      <td>0.186</td>\n      <td>0.159</td>\n      <td>0.013</td>\n      <td>1.50</td>\n      <td>1.25</td>\n      <td>7</td>\n      <td>5.010417</td>\n      <td>5.010417</td>\n    </tr>\n    <tr>\n      <th>188368</th>\n      <td>2020-07-28 15:10:00</td>\n      <td>0</td>\n      <td>1</td>\n      <td>2.667</td>\n      <td>0.333</td>\n      <td>1.833</td>\n      <td>1.667</td>\n      <td>9</td>\n      <td>10</td>\n      <td>1.000</td>\n      <td>...</td>\n      <td>11</td>\n      <td>0.622</td>\n      <td>-0.428</td>\n      <td>0.257</td>\n      <td>-0.143</td>\n      <td>2.00</td>\n      <td>1.50</td>\n      <td>3</td>\n      <td>2.979167</td>\n      <td>2.979167</td>\n    </tr>\n    <tr>\n      <th>188369</th>\n      <td>2020-07-28 15:10:00</td>\n      <td>1</td>\n      <td>1</td>\n      <td>1.000</td>\n      <td>1.333</td>\n      <td>1.500</td>\n      <td>1.167</td>\n      <td>6</td>\n      <td>11</td>\n      <td>2.667</td>\n      <td>...</td>\n      <td>10</td>\n      <td>0.257</td>\n      <td>-0.143</td>\n      <td>0.622</td>\n      <td>-0.428</td>\n      <td>1.50</td>\n      <td>2.00</td>\n      <td>3</td>\n      <td>2.979167</td>\n      <td>2.979167</td>\n    </tr>\n  </tbody>\n</table>\n<p>188370 rows × 24 columns</p>\n</div>"
     },
     "metadata": {},
     "execution_count": 2
    }
   ],
   "source": [
    "from load_data import get_camp_fixtures\n",
    "from export_football_data import label_columns\n",
    "\n",
    "\n",
    "train_X = football_data.drop(label_columns, axis=1)\n",
    "train_1_5_over = football_data['1.5_over']\n",
    "train_2_5_over = football_data['2.5_over']\n",
    "train_3_5_over = football_data['3.5_over']\n",
    "train_4_5_over = football_data['4.5_over']\n",
    "train_5_5_over = football_data['5.5_over']\n",
    "\n",
    "train_X"
   ]
  },
  {
   "cell_type": "markdown",
   "metadata": {},
   "source": [
    "# 특성 처리"
   ]
  },
  {
   "cell_type": "code",
   "execution_count": 3,
   "metadata": {},
   "outputs": [],
   "source": [
    "from load_data import load_data, num_attribs, get_camp_fixtures, cat_attribs_with_rest_camp, cat_attribs_with_camp\n",
    "from sklearn.preprocessing import OneHotEncoder, StandardScaler, PolynomialFeatures\n",
    "from sklearn.compose import ColumnTransformer\n",
    "from sklearn.pipeline import Pipeline\n",
    "import machine_learning.utility as utility\n",
    "\n",
    "\n",
    "columns_pipeline = ColumnTransformer([\n",
    "        (\"num\", StandardScaler(), num_attribs),\n",
    "        (\"cat\", OneHotEncoder(), cat_attribs_with_camp),\n",
    "    ])\n",
    "\n",
    "feature_pipeline = Pipeline([\n",
    "        # (\"binning\", utility.BinningRestPeriod()),\n",
    "        ('columns', columns_pipeline),\n",
    "    ])"
   ]
  },
  {
   "cell_type": "code",
   "execution_count": 4,
   "metadata": {},
   "outputs": [],
   "source": [
    "prepared_train_X = feature_pipeline.fit_transform(train_X)"
   ]
  },
  {
   "cell_type": "code",
   "execution_count": 5,
   "metadata": {
    "tags": []
   },
   "outputs": [
    {
     "output_type": "stream",
     "name": "stdout",
     "text": "점수: [0.71250199 0.71516165 0.7169613 ]\n평균: 0.7148749800923714\n표준 편차: 0.0018317557082998118\n"
    }
   ],
   "source": [
    "from sklearn.neighbors import KNeighborsClassifier\n",
    "from sklearn.model_selection import cross_val_score\n",
    "\n",
    "# 1.5 오버\n",
    "knn_clf_1_5 = KNeighborsClassifier(weights='distance', n_neighbors=15)\n",
    "knn_clf_1_5.fit(prepared_train_X, train_1_5_over)\n",
    "\n",
    "sgd_home_scores = cross_val_score(knn_clf_1_5, prepared_train_X, train_1_5_over, cv=3, scoring=\"accuracy\")\n",
    "utility.display_scores(sgd_home_scores)"
   ]
  },
  {
   "cell_type": "code",
   "execution_count": 6,
   "metadata": {
    "tags": []
   },
   "outputs": [
    {
     "output_type": "stream",
     "name": "stdout",
     "text": "점수: [0.71645166 0.71882465 0.71907947]\n평균: 0.718118596379466\n표준 편차: 0.0011832807449316989\n"
    }
   ],
   "source": [
    "# 1.5 오버\n",
    "knn_clf_1_5 = KNeighborsClassifier(weights='distance', n_neighbors=17)\n",
    "knn_clf_1_5.fit(prepared_train_X, train_1_5_over)\n",
    "\n",
    "sgd_home_scores = cross_val_score(knn_clf_1_5, prepared_train_X, train_1_5_over, cv=3, scoring=\"accuracy\")\n",
    "utility.display_scores(sgd_home_scores)"
   ]
  },
  {
   "cell_type": "code",
   "execution_count": 7,
   "metadata": {
    "tags": []
   },
   "outputs": [
    {
     "output_type": "stream",
     "name": "stdout",
     "text": "점수: [0.7187928  0.72036949 0.72111801]\n평균: 0.7200934331369114\n표준 편차: 0.0009691251344158912\n"
    }
   ],
   "source": [
    "# 1.5 오버\n",
    "knn_clf_1_5 = KNeighborsClassifier(weights='distance', n_neighbors=19)\n",
    "knn_clf_1_5.fit(prepared_train_X, train_1_5_over)\n",
    "\n",
    "sgd_home_scores = cross_val_score(knn_clf_1_5, prepared_train_X, train_1_5_over, cv=3, scoring=\"accuracy\")\n",
    "utility.display_scores(sgd_home_scores)"
   ]
  },
  {
   "cell_type": "code",
   "execution_count": null,
   "metadata": {},
   "outputs": [],
   "source": []
  }
 ]
}