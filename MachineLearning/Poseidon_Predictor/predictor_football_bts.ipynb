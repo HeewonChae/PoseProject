{
 "metadata": {
  "language_info": {
   "codemirror_mode": {
    "name": "ipython",
    "version": 3
   },
   "file_extension": ".py",
   "mimetype": "text/x-python",
   "name": "python",
   "nbconvert_exporter": "python",
   "pygments_lexer": "ipython3",
   "version": 3
  },
  "orig_nbformat": 2,
  "kernelspec": {
   "name": "python_defaultSpec_1596313488907",
   "display_name": "Python 3.6.10 64-bit ('tensor_gpu': conda)"
  }
 },
 "nbformat": 4,
 "nbformat_minor": 2,
 "cells": [
  {
   "cell_type": "code",
   "execution_count": null,
   "metadata": {
    "tags": []
   },
   "outputs": [],
   "source": [
    "import load_data\n",
    "import enums\n",
    "\n",
    "football_data = load_data.load_data(enums.SportsType.Football, enums.CampType.Any)\n",
    "football_data.head()"
   ]
  },
  {
   "cell_type": "code",
   "execution_count": null,
   "metadata": {},
   "outputs": [],
   "source": [
    "from load_data import get_camp_fixtures\n",
    "from export_football_data import label_columns\n",
    "\n",
    "\n",
    "home_football_data = get_camp_fixtures(enums.CampType.Home, football_data)\n",
    "away_football_data = get_camp_fixtures(enums.CampType.Away, football_data)"
   ]
  },
  {
   "cell_type": "code",
   "execution_count": null,
   "metadata": {},
   "outputs": [],
   "source": [
    "home_train = home_football_data.drop(label_columns, axis=1)\n",
    "home_train_btg = home_football_data['both_to_score']  # 양팀 득점 여부 (0 = No, 1 = Yes)\n",
    "\n",
    "home_train"
   ]
  },
  {
   "cell_type": "code",
   "execution_count": null,
   "metadata": {},
   "outputs": [],
   "source": [
    "away_train = away_football_data.drop(label_columns, axis=1)\n",
    "away_train_btg = away_football_data['both_to_score']\n",
    "\n",
    "away_train"
   ]
  },
  {
   "cell_type": "markdown",
   "metadata": {},
   "source": [
    "# 특성처리"
   ]
  },
  {
   "cell_type": "code",
   "execution_count": null,
   "metadata": {},
   "outputs": [],
   "source": []
  }
 ]
}